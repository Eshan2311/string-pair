{
 "cells": [
  {
   "cell_type": "code",
   "execution_count": 1,
   "metadata": {},
   "outputs": [
    {
     "name": "stdout",
     "output_type": "stream",
     "text": [
      "3\n",
      "7 4 2\n",
      "zero\n"
     ]
    }
   ],
   "source": [
    "number={'0':'zero','1':'one','2':\"two\",'3':'three','4':'four','5':'five','6':'six','7':'seven','8':'eight','9':'nine',\n",
    "        '10':'ten'}\n",
    "vowels=['a','e','i','o','u']\n",
    "N=int(input())\n",
    "num=list(map(str,input().split()))\n",
    "text=[]\n",
    "for i in range(N):\n",
    "    text.append(number[num[i]])\n",
    "D=0\n",
    "for i in range(len(text)):\n",
    "    y=text[i]\n",
    "    for j in y:\n",
    "        if j in vowels:\n",
    "            D+=1\n",
    "        else:\n",
    "            pass\n",
    "total=0\n",
    "for x in range(1,N):\n",
    "    i=list(map(int,([num[x-1],num[x]])))\n",
    "    if (i[0]+i[1]==D):\n",
    "        total+=1\n",
    "print(number[str(total)])"
   ]
  },
  {
   "cell_type": "code",
   "execution_count": 4,
   "metadata": {},
   "outputs": [
    {
     "data": {
      "text/plain": [
       "2"
      ]
     },
     "execution_count": 4,
     "metadata": {},
     "output_type": "execute_result"
    }
   ],
   "source": [
    "x\n"
   ]
  },
  {
   "cell_type": "code",
   "execution_count": null,
   "metadata": {},
   "outputs": [],
   "source": []
  },
  {
   "cell_type": "code",
   "execution_count": 3,
   "metadata": {},
   "outputs": [
    {
     "data": {
      "text/plain": [
       "'two'"
      ]
     },
     "execution_count": 3,
     "metadata": {},
     "output_type": "execute_result"
    }
   ],
   "source": [
    "y\n",
    "\n"
   ]
  },
  {
   "cell_type": "code",
   "execution_count": null,
   "metadata": {},
   "outputs": [],
   "source": []
  }
 ],
 "metadata": {
  "kernelspec": {
   "display_name": "Python 3",
   "language": "python",
   "name": "python3"
  },
  "language_info": {
   "codemirror_mode": {
    "name": "ipython",
    "version": 3
   },
   "file_extension": ".py",
   "mimetype": "text/x-python",
   "name": "python",
   "nbconvert_exporter": "python",
   "pygments_lexer": "ipython3",
   "version": "3.8.3"
  }
 },
 "nbformat": 4,
 "nbformat_minor": 4
}
